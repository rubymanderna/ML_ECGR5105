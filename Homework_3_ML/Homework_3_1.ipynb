{
  "nbformat": 4,
  "nbformat_minor": 0,
  "metadata": {
    "colab": {
      "provenance": []
    },
    "kernelspec": {
      "name": "python3",
      "display_name": "Python 3"
    },
    "language_info": {
      "name": "python"
    }
  },
  "cells": [
    {
      "cell_type": "markdown",
      "source": [
        "Problem 1 (20 points)\n",
        "Using the diabetes dataset, build a logistic regression binary classifier for positive diabetes. Please use 80% and 20% split between training and evaluation (test). Make sure to perform proper scaling and standardization before your training. Report the classification accuracy over iterations. Also, report your results, including accuracy, precision, and recall, FI score. At the end, plot the confusion matrix representing your binary classifier."
      ],
      "metadata": {
        "id": "KclNlea4Re_v"
      }
    },
    {
      "cell_type": "code",
      "source": [
        "import numpy as np\n",
        "import pandas as pd\n",
        "from sklearn.preprocessing import StandardScaler, MinMaxScaler\n",
        "from sklearn.model_selection import train_test_split\n",
        "from sklearn.linear_model import LogisticRegression\n",
        "from sklearn.metrics import precision_score, recall_score, f1_score, accuracy_score, confusion_matrix\n",
        "import matplotlib.pyplot as plt\n",
        "import seaborn as sns\n"
      ],
      "metadata": {
        "id": "o5J5DwzjRf_E"
      },
      "execution_count": 8,
      "outputs": []
    },
    {
      "cell_type": "code",
      "source": [
        "# Load the dataset\n",
        "df = pd.read_csv(\"/content/drive/MyDrive/ML_ECGR5105/diabetes.csv\")\n",
        "print(df.columns)"
      ],
      "metadata": {
        "colab": {
          "base_uri": "https://localhost:8080/"
        },
        "id": "KcEF0LTKSFGy",
        "outputId": "c9e24f32-c878-4b17-e846-2e129502442e"
      },
      "execution_count": 9,
      "outputs": [
        {
          "output_type": "stream",
          "name": "stdout",
          "text": [
            "Index(['Pregnancies', 'Glucose', 'BloodPressure', 'SkinThickness', 'Insulin',\n",
            "       'BMI', 'DiabetesPedigreeFunction', 'Age', 'Outcome'],\n",
            "      dtype='object')\n"
          ]
        }
      ]
    },
    {
      "cell_type": "code",
      "source": [
        "\n",
        "\n",
        "# Load your dataset\n",
        "# Assuming df is your DataFrame\n",
        "\n",
        "# Define features (X) and target (y)\n",
        "X = df[['Pregnancies', 'Glucose', 'BloodPressure', 'SkinThickness', 'Insulin', 'BMI', 'DiabetesPedigreeFunction', 'Age']]\n",
        "y = df['Outcome']\n",
        "\n",
        "# Split the data into training and testing sets\n",
        "X_train, X_test, y_train, y_test = train_test_split(X, y, test_size=0.2, random_state=42)\n",
        "\n",
        "# Scale and standardize the features\n",
        "scaler = StandardScaler()\n",
        "X_train = scaler.fit_transform(X_train)\n",
        "X_test = scaler.transform(X_test)\n",
        "\n",
        "# Initialize the Logistic Regression model\n",
        "model = LogisticRegression()\n",
        "\n",
        "best_precision = 0  # Initialize to 0, assuming higher precision is better\n",
        "best_model = None\n",
        "\n",
        "# Initialize empty lists to store metrics\n",
        "precisions = []\n",
        "recalls = []\n",
        "f1_scores = []\n",
        "accuracies = []\n",
        "iterations=10\n",
        "# Assuming you have a loop for iterations\n",
        "for i in range(iterations):\n",
        "    # Train the model\n",
        "    model.fit(X_train, y_train)\n",
        "\n",
        "    # Make predictions\n",
        "    y_pred = model.predict(X_test)\n",
        "\n",
        "    # Calculate metrics\n",
        "    precision = precision_score(y_test, y_pred)\n",
        "    recall = recall_score(y_test, y_pred)\n",
        "    f1 = f1_score(y_test, y_pred)\n",
        "    accuracy = accuracy_score(y_test, y_pred)\n",
        "\n",
        "    # Store the best model based on precision\n",
        "    if precision > best_precision:\n",
        "        best_precision = precision\n",
        "        best_model = model\n",
        "\n",
        "    # Store metrics in the lists\n",
        "    precisions.append(precision)\n",
        "    recalls.append(recall)\n",
        "    f1_scores.append(f1)\n",
        "    accuracies.append(accuracy)\n",
        "\n",
        "    print(f'Iteration {i+1} - Precision: {precision}, Recall: {recall}, F1 Score: {f1}, Accuracy: {accuracy}')\n",
        "\n",
        "# Now, you can use 'best_model' for further predictions or analysis\n",
        "y_pred = best_model.predict(X_test)\n",
        "\n",
        "# Calculate other metrics for the best model\n",
        "conf_matrix = confusion_matrix(y_test, y_pred)\n",
        "\n",
        "# Print metrics\n",
        "print(f'Best Precision: {best_precision}')\n",
        "print(f'Confusion Matrix:\\n{conf_matrix}')\n",
        "\n",
        "# Plot the confusion matrix\n",
        "sns.heatmap(conf_matrix, annot=True, fmt='d', cmap='Blues')\n",
        "plt.xlabel('Predicted')\n",
        "plt.ylabel('Actual')\n",
        "plt.title('Confusion Matrix')\n",
        "plt.show()\n",
        "\n"
      ],
      "metadata": {
        "colab": {
          "base_uri": "https://localhost:8080/",
          "height": 724
        },
        "id": "BUFzMiU_eEnK",
        "outputId": "f5646c6d-a936-4959-e08c-c7e02566b3a0"
      },
      "execution_count": 10,
      "outputs": [
        {
          "output_type": "stream",
          "name": "stdout",
          "text": [
            "Iteration 1 - Precision: 0.6491228070175439, Recall: 0.6727272727272727, F1 Score: 0.6607142857142858, Accuracy: 0.7532467532467533\n",
            "Iteration 2 - Precision: 0.6491228070175439, Recall: 0.6727272727272727, F1 Score: 0.6607142857142858, Accuracy: 0.7532467532467533\n",
            "Iteration 3 - Precision: 0.6491228070175439, Recall: 0.6727272727272727, F1 Score: 0.6607142857142858, Accuracy: 0.7532467532467533\n",
            "Iteration 4 - Precision: 0.6491228070175439, Recall: 0.6727272727272727, F1 Score: 0.6607142857142858, Accuracy: 0.7532467532467533\n",
            "Iteration 5 - Precision: 0.6491228070175439, Recall: 0.6727272727272727, F1 Score: 0.6607142857142858, Accuracy: 0.7532467532467533\n",
            "Iteration 6 - Precision: 0.6491228070175439, Recall: 0.6727272727272727, F1 Score: 0.6607142857142858, Accuracy: 0.7532467532467533\n",
            "Iteration 7 - Precision: 0.6491228070175439, Recall: 0.6727272727272727, F1 Score: 0.6607142857142858, Accuracy: 0.7532467532467533\n",
            "Iteration 8 - Precision: 0.6491228070175439, Recall: 0.6727272727272727, F1 Score: 0.6607142857142858, Accuracy: 0.7532467532467533\n",
            "Iteration 9 - Precision: 0.6491228070175439, Recall: 0.6727272727272727, F1 Score: 0.6607142857142858, Accuracy: 0.7532467532467533\n",
            "Iteration 10 - Precision: 0.6491228070175439, Recall: 0.6727272727272727, F1 Score: 0.6607142857142858, Accuracy: 0.7532467532467533\n",
            "Best Precision: 0.6491228070175439\n",
            "Confusion Matrix:\n",
            "[[79 20]\n",
            " [18 37]]\n"
          ]
        },
        {
          "output_type": "display_data",
          "data": {
            "text/plain": [
              "<Figure size 640x480 with 2 Axes>"
            ],
            "image/png": "[encoded data removed]"
          },
          "metadata": {}
        }
      ]
    },
    {
      "cell_type": "markdown",
      "source": [
        "\n",
        "**with normalization**"
      ],
      "metadata": {
        "id": "8NRxBBKe8o8H"
      }
    },
    {
      "cell_type": "code",
      "source": [
        "import pandas as pd\n",
        "from sklearn.model_selection import train_test_split\n",
        "from sklearn.preprocessing import StandardScaler\n",
        "from sklearn.linear_model import LogisticRegression\n",
        "from sklearn.metrics import precision_score, recall_score, f1_score, accuracy_score, confusion_matrix\n",
        "import matplotlib.pyplot as plt\n",
        "import seaborn as sns\n",
        "\n",
        "# Load your dataset\n",
        "# Assuming df is your DataFrame\n",
        "\n",
        "# Define features (X) and target (y)\n",
        "X = df[['Pregnancies', 'Glucose', 'BloodPressure', 'SkinThickness', 'Insulin', 'BMI', 'DiabetesPedigreeFunction', 'Age']]\n",
        "y = df['Outcome']\n",
        "\n",
        "# Split the data into training and testing sets\n",
        "X_train, X_test, y_train, y_test = train_test_split(X, y, test_size=0.2, random_state=42)\n",
        "\n",
        "# Normalize the features (min-max scaling)\n",
        "scaler = MinMaxScaler()\n",
        "X_train = scaler.fit_transform(X_train)\n",
        "X_test = scaler.transform(X_test)\n",
        "\n",
        "# Initialize the Logistic Regression model\n",
        "model = LogisticRegression()\n",
        "\n",
        "best_precision = 0  # Initialize to 0, assuming higher precision is better\n",
        "best_model = None\n",
        "\n",
        "# Initialize empty lists to store metrics\n",
        "precisions = []\n",
        "recalls = []\n",
        "f1_scores = []\n",
        "accuracies = []\n",
        "iterations=10\n",
        "# Assuming you have a loop for iterations\n",
        "for i in range(iterations):\n",
        "    # Train the model\n",
        "    model.fit(X_train, y_train)\n",
        "\n",
        "    # Make predictions\n",
        "    y_pred = model.predict(X_test)\n",
        "\n",
        "    # Calculate metrics\n",
        "    precision = precision_score(y_test, y_pred)\n",
        "    recall = recall_score(y_test, y_pred)\n",
        "    f1 = f1_score(y_test, y_pred)\n",
        "    accuracy = accuracy_score(y_test, y_pred)\n",
        "\n",
        "    # Store the best model based on precision\n",
        "    if precision > best_precision:\n",
        "        best_precision = precision\n",
        "        best_model = model\n",
        "\n",
        "    # Store metrics in the lists\n",
        "    precisions.append(precision)\n",
        "    recalls.append(recall)\n",
        "    f1_scores.append(f1)\n",
        "    accuracies.append(accuracy)\n",
        "\n",
        "    print(f'Iteration {i+1} - Precision: {precision}, Recall: {recall}, F1 Score: {f1}, Accuracy: {accuracy}')\n",
        "\n",
        "# Now, you can use 'best_model' for further predictions or analysis\n",
        "y_pred = best_model.predict(X_test)\n",
        "\n",
        "# Calculate other metrics for the best model\n",
        "conf_matrix = confusion_matrix(y_test, y_pred)\n",
        "\n",
        "# Print metrics\n",
        "print(f'Best Precision: {best_precision}')\n",
        "print(f'Confusion Matrix:\\n{conf_matrix}')\n",
        "\n",
        "# Plot the confusion matrix\n",
        "sns.heatmap(conf_matrix, annot=True, fmt='d', cmap='Blues')\n",
        "plt.xlabel('Predicted')\n",
        "plt.ylabel('Actual')\n",
        "plt.title('Confusion Matrix')\n",
        "plt.show()\n",
        "\n"
      ],
      "metadata": {
        "colab": {
          "base_uri": "https://localhost:8080/",
          "height": 724
        },
        "id": "ZjaSYi0p8oB-",
        "outputId": "5e684d49-3b87-4448-81e0-0c0f16c84a83"
      },
      "execution_count": 11,
      "outputs": [
        {
          "output_type": "stream",
          "name": "stdout",
          "text": [
            "Iteration 1 - Precision: 0.6808510638297872, Recall: 0.5818181818181818, F1 Score: 0.627450980392157, Accuracy: 0.7532467532467533\n",
            "Iteration 2 - Precision: 0.6808510638297872, Recall: 0.5818181818181818, F1 Score: 0.627450980392157, Accuracy: 0.7532467532467533\n",
            "Iteration 3 - Precision: 0.6808510638297872, Recall: 0.5818181818181818, F1 Score: 0.627450980392157, Accuracy: 0.7532467532467533\n",
            "Iteration 4 - Precision: 0.6808510638297872, Recall: 0.5818181818181818, F1 Score: 0.627450980392157, Accuracy: 0.7532467532467533\n",
            "Iteration 5 - Precision: 0.6808510638297872, Recall: 0.5818181818181818, F1 Score: 0.627450980392157, Accuracy: 0.7532467532467533\n",
            "Iteration 6 - Precision: 0.6808510638297872, Recall: 0.5818181818181818, F1 Score: 0.627450980392157, Accuracy: 0.7532467532467533\n",
            "Iteration 7 - Precision: 0.6808510638297872, Recall: 0.5818181818181818, F1 Score: 0.627450980392157, Accuracy: 0.7532467532467533\n",
            "Iteration 8 - Precision: 0.6808510638297872, Recall: 0.5818181818181818, F1 Score: 0.627450980392157, Accuracy: 0.7532467532467533\n",
            "Iteration 9 - Precision: 0.6808510638297872, Recall: 0.5818181818181818, F1 Score: 0.627450980392157, Accuracy: 0.7532467532467533\n",
            "Iteration 10 - Precision: 0.6808510638297872, Recall: 0.5818181818181818, F1 Score: 0.627450980392157, Accuracy: 0.7532467532467533\n",
            "Best Precision: 0.6808510638297872\n",
            "Confusion Matrix:\n",
            "[[84 15]\n",
            " [23 32]]\n"
          ]
        },
        {
          "output_type": "display_data",
          "data": {
            "text/plain": [
              "<Figure size 640x480 with 2 Axes>"
            ],
            "image/png": "[encoded data removed]"
          },
          "metadata": {}
        }
      ]
    },
    {
      "cell_type": "markdown",
      "source": [
        "**Result - question 1 =**\n",
        "\n",
        "standardize\n",
        "\n",
        "Accuracy: 0.7532467532467533\n",
        "\n",
        "Recall: 0.6727272727272727\n",
        "\n",
        "F1 Score: 0.6607142857142858\n",
        "\n",
        "Best Precision: 0.6491228070175439\n",
        "\n",
        "Confusion Matrix:\n",
        "\n",
        "[[79 20]\n",
        "\n",
        " [18 37]]\n",
        "\n",
        "Normalize\n",
        "\n",
        "Accuracy: 0.7532467532467533\n",
        "\n",
        "Recall: 0.5818181818181818\n",
        "\n",
        "F1 Score: 0.627450980392157\n",
        "\n",
        "Best Precision: 0.6808510638297872\n",
        "\n",
        "Confusion Matrix:\n",
        "[[84 15]\n",
        "\n",
        " [23 32]]\n",
        "\n",
        "compare - we are achieving same accuracy in both cases but precision seems to be improved in normalization. However, f1 and recall are better when we do standardization.\n"
      ],
      "metadata": {
        "id": "MToaGNnth7B2"
      }
    },
    {
      "cell_type": "code",
      "source": [],
      "metadata": {
        "id": "_uWIjzWt932o"
      },
      "execution_count": null,
      "outputs": []
    },
    {
      "cell_type": "code",
      "source": [],
      "metadata": {
        "id": "BVOAk0Jpz2Wc"
      },
      "execution_count": null,
      "outputs": []
    }
  ]
}