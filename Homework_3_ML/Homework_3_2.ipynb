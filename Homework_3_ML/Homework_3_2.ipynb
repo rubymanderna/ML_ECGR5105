{
  "nbformat": 4,
  "nbformat_minor": 0,
  "metadata": {
    "colab": {
      "provenance": [],
      "mount_file_id": "1eQmflVWgX93GGu1DQI7d_ElEW0pno4UZ",
      "authorship_tag": "ABX9TyOGSf4iAfGFA7UpAOKWYcCb",
      "include_colab_link": true
    },
    "kernelspec": {
      "name": "python3",
      "display_name": "Python 3"
    },
    "language_info": {
      "name": "python"
    }
  },
  "cells": [
    {
      "cell_type": "markdown",
      "metadata": {
        "id": "view-in-github",
        "colab_type": "text"
      },
      "source": [
        "<a href=\"https://colab.research.google.com/github/rubymanderna/ML_ECGR5105/blob/main/Homework_3_ML/Homework_3_2.ipynb\" target=\"_parent\"><img src=\"https://colab.research.google.com/assets/colab-badge.svg\" alt=\"Open In Colab\"/></a>"
      ]
    },
    {
      "cell_type": "markdown",
      "source": [
        "Problem 2 (20pts):\n",
        "\n",
        "a. Use the cancer dataset to build a logistic regression model to classify the type of cancer (Malignant vs. benign). First, create a logistic regression that takes all 30 input features for classification. Please use 80% and 20% split between training and evaluation (test). Make sure to perform proper scaling and standardization before your training. Report your classification accuracy over iterations. Also, report your results, including accuracy, precision, recall, and F1 score. At the end, plot the confusion matrix representing your binary classifier.\n",
        "\n",
        "\n"
      ],
      "metadata": {
        "id": "OZSsCTQSjiQz"
      }
    },
    {
      "cell_type": "code",
      "execution_count": 20,
      "metadata": {
        "id": "1FrbUagvjZpG"
      },
      "outputs": [],
      "source": [
        "import numpy as np\n",
        "import matplotlib.pyplot as plt\n",
        "import pandas as pd\n",
        "from sklearn.model_selection import train_test_split\n",
        "from sklearn.preprocessing import StandardScaler, MinMaxScaler\n",
        "from sklearn.linear_model import LogisticRegression\n",
        "from sklearn.metrics import accuracy_score, precision_score, recall_score, f1_score, confusion_matrix\n",
        "import seaborn as sns\n"
      ]
    },
    {
      "cell_type": "code",
      "source": [
        "# Load the dataset\n",
        "df = pd.read_csv(\"/content/drive/MyDrive/ML_ECGR5105/cancer.csv\")\n",
        "print(df.columns)"
      ],
      "metadata": {
        "colab": {
          "base_uri": "https://localhost:8080/"
        },
        "id": "7y7S_hCRj0lb",
        "outputId": "1ba86ea5-12fd-4057-c1a0-300471128c3e"
      },
      "execution_count": 21,
      "outputs": [
        {
          "output_type": "stream",
          "name": "stdout",
          "text": [
            "Index(['id', 'diagnosis', 'radius_mean', 'texture_mean', 'perimeter_mean',\n",
            "       'area_mean', 'smoothness_mean', 'compactness_mean', 'concavity_mean',\n",
            "       'concave points_mean', 'symmetry_mean', 'fractal_dimension_mean',\n",
            "       'radius_se', 'texture_se', 'perimeter_se', 'area_se', 'smoothness_se',\n",
            "       'compactness_se', 'concavity_se', 'concave points_se', 'symmetry_se',\n",
            "       'fractal_dimension_se', 'radius_worst', 'texture_worst',\n",
            "       'perimeter_worst', 'area_worst', 'smoothness_worst',\n",
            "       'compactness_worst', 'concavity_worst', 'concave points_worst',\n",
            "       'symmetry_worst', 'fractal_dimension_worst', 'Unnamed: 32'],\n",
            "      dtype='object')\n"
          ]
        }
      ]
    },
    {
      "cell_type": "code",
      "source": [
        "#checking nan values\n",
        "nan_counts = df.isna().sum()\n",
        "print(nan_counts)\n",
        "#droping 'Unnamed: 32' since all values are null\n",
        "df = df.drop(columns=['Unnamed: 32'])"
      ],
      "metadata": {
        "colab": {
          "base_uri": "https://localhost:8080/"
        },
        "id": "vBD92QMsmrrx",
        "outputId": "00ab3687-710c-451f-b3ab-e78c1c506528"
      },
      "execution_count": 22,
      "outputs": [
        {
          "output_type": "stream",
          "name": "stdout",
          "text": [
            "id                           0\n",
            "diagnosis                    0\n",
            "radius_mean                  0\n",
            "texture_mean                 0\n",
            "perimeter_mean               0\n",
            "area_mean                    0\n",
            "smoothness_mean              0\n",
            "compactness_mean             0\n",
            "concavity_mean               0\n",
            "concave points_mean          0\n",
            "symmetry_mean                0\n",
            "fractal_dimension_mean       0\n",
            "radius_se                    0\n",
            "texture_se                   0\n",
            "perimeter_se                 0\n",
            "area_se                      0\n",
            "smoothness_se                0\n",
            "compactness_se               0\n",
            "concavity_se                 0\n",
            "concave points_se            0\n",
            "symmetry_se                  0\n",
            "fractal_dimension_se         0\n",
            "radius_worst                 0\n",
            "texture_worst                0\n",
            "perimeter_worst              0\n",
            "area_worst                   0\n",
            "smoothness_worst             0\n",
            "compactness_worst            0\n",
            "concavity_worst              0\n",
            "concave points_worst         0\n",
            "symmetry_worst               0\n",
            "fractal_dimension_worst      0\n",
            "Unnamed: 32                569\n",
            "dtype: int64\n"
          ]
        }
      ]
    },
    {
      "cell_type": "code",
      "source": [
        "\n",
        "# Define features (X) and target (y)\n",
        "X = df.drop(columns=['diagnosis'])  # Assuming 'Diagnosis' is the target column\n",
        "y = df['diagnosis']\n",
        "\n",
        "# Split the data into training and testing sets\n",
        "X_train, X_test, y_train, y_test = train_test_split(X, y, test_size=0.2, random_state=42)\n",
        "\n",
        "# Scale and standardize the features\n",
        "scaler = StandardScaler()\n",
        "X_train = scaler.fit_transform(X_train)\n",
        "X_test = scaler.transform(X_test)\n",
        "\n",
        "# Initialize the Logistic Regression model\n",
        "model = LogisticRegression()\n",
        "\n",
        "# Initialize empty lists to store metrics\n",
        "accuracies = []\n",
        "precisions = []\n",
        "recalls = []\n",
        "f1_scores = []\n",
        "iterations=5\n",
        "\n",
        "for i in range(iterations):\n",
        "    # Train the model\n",
        "    model.fit(X_train, y_train)\n",
        "\n",
        "    # Make predictions\n",
        "    y_pred = model.predict(X_test)\n",
        "\n",
        "    # Calculate metrics\n",
        "    accuracy = accuracy_score(y_test, y_pred)\n",
        "    precision = precision_score(y_test, y_pred, pos_label='M')  # Assuming Malignant is the positive class\n",
        "    recall = recall_score(y_test, y_pred, pos_label='M')\n",
        "    f1 = f1_score(y_test, y_pred, pos_label='M')\n",
        "\n",
        "    # Store metrics in the lists\n",
        "    accuracies.append(accuracy)\n",
        "    precisions.append(precision)\n",
        "    recalls.append(recall)\n",
        "    f1_scores.append(f1)\n",
        "\n",
        "    print(f'Iteration {i+1} - Accuracy: {accuracy}, Precision: {precision}, Recall: {recall}, F1 Score: {f1}')\n",
        "\n",
        "# Now, you can use 'model' for further predictions or analysis\n",
        "y_pred = model.predict(X_test)\n",
        "\n",
        "# Calculate other metrics for the final model\n",
        "precision = precision_score(y_test, y_pred, pos_label='M')\n",
        "recall = recall_score(y_test, y_pred, pos_label='M')\n",
        "f1 = f1_score(y_test, y_pred, pos_label='M')\n",
        "conf_matrix = confusion_matrix(y_test, y_pred)\n",
        "\n",
        "# Print metrics\n",
        "print('standardize results')\n",
        "print(f'Final Accuracy: {accuracy}')\n",
        "print(f'Final Precision: {precision}')\n",
        "print(f'Final Recall: {recall}')\n",
        "print(f'Final F1 Score: {f1}')\n",
        "print(f'Confusion Matrix:\\n{conf_matrix}')\n",
        "\n",
        "# Plot the confusion matrix\n",
        "sns.heatmap(conf_matrix, annot=True, fmt='d', cmap='Blues')\n",
        "plt.xlabel('Predicted')\n",
        "plt.ylabel('Actual')\n",
        "plt.title('Confusion Matrix')\n",
        "plt.show()\n"
      ],
      "metadata": {
        "colab": {
          "base_uri": "https://localhost:8080/",
          "height": 707
        },
        "id": "HqWFb86jkpqI",
        "outputId": "51e34475-4209-4d24-e00f-2a08aaab9b06"
      },
      "execution_count": 23,
      "outputs": [
        {
          "output_type": "stream",
          "name": "stdout",
          "text": [
            "Iteration 1 - Accuracy: 0.9736842105263158, Precision: 0.9761904761904762, Recall: 0.9534883720930233, F1 Score: 0.9647058823529412\n",
            "Iteration 2 - Accuracy: 0.9736842105263158, Precision: 0.9761904761904762, Recall: 0.9534883720930233, F1 Score: 0.9647058823529412\n",
            "Iteration 3 - Accuracy: 0.9736842105263158, Precision: 0.9761904761904762, Recall: 0.9534883720930233, F1 Score: 0.9647058823529412\n",
            "Iteration 4 - Accuracy: 0.9736842105263158, Precision: 0.9761904761904762, Recall: 0.9534883720930233, F1 Score: 0.9647058823529412\n",
            "Iteration 5 - Accuracy: 0.9736842105263158, Precision: 0.9761904761904762, Recall: 0.9534883720930233, F1 Score: 0.9647058823529412\n",
            "standardize results\n",
            "Final Accuracy: 0.9736842105263158\n",
            "Final Precision: 0.9761904761904762\n",
            "Final Recall: 0.9534883720930233\n",
            "Final F1 Score: 0.9647058823529412\n",
            "Confusion Matrix:\n",
            "[[70  1]\n",
            " [ 2 41]]\n"
          ]
        },
        {
          "output_type": "display_data",
          "data": {
            "text/plain": [
              "<Figure size 640x480 with 2 Axes>"
            ],
            "image/png": "[encoded data removed]"
          },
          "metadata": {}
        }
      ]
    },
    {
      "cell_type": "markdown",
      "source": [
        "#Lets try with Normalization"
      ],
      "metadata": {
        "id": "sspiRjGDNLfS"
      }
    },
    {
      "cell_type": "code",
      "source": [
        "\n",
        "# Normalize the features (min-max scaling)\n",
        "scaler = MinMaxScaler()\n",
        "X_train = scaler.fit_transform(X_train)\n",
        "X_test = scaler.transform(X_test)\n",
        "\n",
        "# Initialize the Logistic Regression model\n",
        "model = LogisticRegression()\n",
        "\n",
        "# Initialize empty lists to store metrics\n",
        "accuracies = []\n",
        "precisions = []\n",
        "recalls = []\n",
        "f1_scores = []\n",
        "iterations = 5\n",
        "\n",
        "for i in range(iterations):\n",
        "    # Train the model\n",
        "    model.fit(X_train, y_train)\n",
        "\n",
        "    # Make predictions\n",
        "    y_pred = model.predict(X_test)\n",
        "\n",
        "    # Calculate metrics\n",
        "    accuracy = accuracy_score(y_test, y_pred)\n",
        "    precision = precision_score(y_test, y_pred, pos_label='M')  # Assuming Malignant is the positive class\n",
        "    recall = recall_score(y_test, y_pred, pos_label='M')\n",
        "    f1 = f1_score(y_test, y_pred, pos_label='M')\n",
        "\n",
        "    # Store metrics in the lists\n",
        "    accuracies.append(accuracy)\n",
        "    precisions.append(precision)\n",
        "    recalls.append(recall)\n",
        "    f1_scores.append(f1)\n",
        "\n",
        "    print(f'Iteration {i+1} - Accuracy: {accuracy}, Precision: {precision}, Recall: {recall}, F1 Score: {f1}')\n",
        "\n",
        "# Now, you can use 'model' for further predictions or analysis\n",
        "y_pred = model.predict(X_test)\n",
        "\n",
        "# Calculate other metrics for the final model\n",
        "precision = precision_score(y_test, y_pred, pos_label='M')\n",
        "recall = recall_score(y_test, y_pred, pos_label='M')\n",
        "f1 = f1_score(y_test, y_pred, pos_label='M')\n",
        "conf_matrix = confusion_matrix(y_test, y_pred)\n",
        "\n",
        "# Print metrics\n",
        "print('Normalize results')\n",
        "\n",
        "print(f'Final Accuracy: {accuracy}')\n",
        "print(f'Final Precision: {precision}')\n",
        "print(f'Final Recall: {recall}')\n",
        "print(f'Final F1 Score: {f1}')\n",
        "print(f'Confusion Matrix:\\n{conf_matrix}')\n",
        "\n",
        "# Plot the confusion matrix\n",
        "sns.heatmap(conf_matrix, annot=True, fmt='d', cmap='Blues')\n",
        "plt.xlabel('Predicted')\n",
        "plt.ylabel('Actual')\n",
        "plt.title('Confusion Matrix')\n",
        "plt.show()\n"
      ],
      "metadata": {
        "colab": {
          "base_uri": "https://localhost:8080/",
          "height": 707
        },
        "id": "PwzhtV9bNKgZ",
        "outputId": "982c576c-3efc-4e18-e78f-4605517e1997"
      },
      "execution_count": 24,
      "outputs": [
        {
          "output_type": "stream",
          "name": "stdout",
          "text": [
            "Iteration 1 - Accuracy: 0.9824561403508771, Precision: 1.0, Recall: 0.9534883720930233, F1 Score: 0.9761904761904763\n",
            "Iteration 2 - Accuracy: 0.9824561403508771, Precision: 1.0, Recall: 0.9534883720930233, F1 Score: 0.9761904761904763\n",
            "Iteration 3 - Accuracy: 0.9824561403508771, Precision: 1.0, Recall: 0.9534883720930233, F1 Score: 0.9761904761904763\n",
            "Iteration 4 - Accuracy: 0.9824561403508771, Precision: 1.0, Recall: 0.9534883720930233, F1 Score: 0.9761904761904763\n",
            "Iteration 5 - Accuracy: 0.9824561403508771, Precision: 1.0, Recall: 0.9534883720930233, F1 Score: 0.9761904761904763\n",
            "Normalize results\n",
            "Final Accuracy: 0.9824561403508771\n",
            "Final Precision: 1.0\n",
            "Final Recall: 0.9534883720930233\n",
            "Final F1 Score: 0.9761904761904763\n",
            "Confusion Matrix:\n",
            "[[71  0]\n",
            " [ 2 41]]\n"
          ]
        },
        {
          "output_type": "display_data",
          "data": {
            "text/plain": [
              "<Figure size 640x480 with 2 Axes>"
            ],
            "image/png": "[encoded data removed]"
          },
          "metadata": {}
        }
      ]
    },
    {
      "cell_type": "markdown",
      "source": [
        "Explainantion\n",
        "\n",
        "standardize results\n",
        "\n",
        "Final Accuracy: 0.9736842105263158\n",
        "\n",
        "Final Precision: 0.9761904761904762\n",
        "\n",
        "Final Recall: 0.9534883720930233\n",
        "\n",
        "Final F1 Score: 0.9647058823529412\n",
        "\n",
        "Confusion Matrix:\n",
        "\n",
        "[70   1]\n",
        "\n",
        "[2  41]\n",
        "\n",
        "Normalize results\n",
        "\n",
        "Final Accuracy: 0.9824561403508771\n",
        "\n",
        "Final Precision: 1.0\n",
        "\n",
        "Final Recall: 0.9534883720930233\n",
        "\n",
        "Final F1 Score: 0.9761904761904763\n",
        "\n",
        "Confusion Matrix:\n",
        "\n",
        "[71  0]\n",
        "\n",
        "[2 41]\n",
        "\n",
        "format for confusion matrix\n",
        "\n",
        "[TP FP]\n",
        "\n",
        "[FN TN]\n",
        "\n",
        "\n",
        "Since, this is cancer related issue my understanding is it should have less false negatives cases. In any condition precision would be good option. Normalizing gives us the best results as it is decreasing the number of False positives and we are getting better accuracy."
      ],
      "metadata": {
        "id": "Ur0q_MC6O496"
      }
    },
    {
      "cell_type": "markdown",
      "source": [
        "b. How about adding a weight penalty here, considering the number of parameters? Add the weight penalty repeat the training, and report the results.\n",
        "\n"
      ],
      "metadata": {
        "id": "JLNeeOioqqvK"
      }
    },
    {
      "cell_type": "markdown",
      "source": [
        "**Since Normalize giving us the better result i will implement this with it**"
      ],
      "metadata": {
        "id": "QhzVlwUwTBEX"
      }
    },
    {
      "cell_type": "code",
      "source": [
        "\n",
        "# Split the data into training and testing sets\n",
        "X_train, X_test, y_train, y_test = train_test_split(X, y, test_size=0.2, random_state=42)\n",
        "\n",
        "# Normalize the features (min-max scaling)\n",
        "scaler = MinMaxScaler()\n",
        "X_train = scaler.fit_transform(X_train)\n",
        "X_test = scaler.transform(X_test)\n",
        "\n",
        "# Initialize the Logistic Regression model with L2 penalty (Ridge)\n",
        "model = LogisticRegression(penalty='l2', solver='liblinear')\n",
        "# Initialize empty lists to store metrics\n",
        "accuracies = []\n",
        "precisions = []\n",
        "recalls = []\n",
        "f1_scores = []\n",
        "\n",
        "# Assuming you have a loop for iterations\n",
        "for i in range(iterations):\n",
        "    # Train the model\n",
        "    model.fit(X_train, y_train)\n",
        "\n",
        "    # Make predictions\n",
        "    y_pred = model.predict(X_test)\n",
        "\n",
        "    # Calculate metrics\n",
        "    accuracy = accuracy_score(y_test, y_pred)\n",
        "    precision = precision_score(y_test, y_pred, pos_label='M')  # Assuming Malignant is the positive class\n",
        "    recall = recall_score(y_test, y_pred, pos_label='M')\n",
        "    f1 = f1_score(y_test, y_pred, pos_label='M')\n",
        "\n",
        "    # Store metrics in the lists\n",
        "    accuracies.append(accuracy)\n",
        "    precisions.append(precision)\n",
        "    recalls.append(recall)\n",
        "    f1_scores.append(f1)\n",
        "\n",
        "    print(f'Iteration {i+1} - Accuracy: {accuracy}, Precision: {precision}, Recall: {recall}, F1 Score: {f1}')\n",
        "\n",
        "# Now, you can use 'model' for further predictions or analysis\n",
        "y_pred = model.predict(X_test)\n",
        "\n",
        "# Calculate other metrics for the final model\n",
        "precision = precision_score(y_test, y_pred, pos_label='M')\n",
        "recall = recall_score(y_test, y_pred, pos_label='M')\n",
        "f1 = f1_score(y_test, y_pred, pos_label='M')\n",
        "conf_matrix = confusion_matrix(y_test, y_pred)\n",
        "\n",
        "# Print metrics\n",
        "print(f'Final Accuracy: {accuracy}')\n",
        "print(f'Final Precision: {precision}')\n",
        "print(f'Final Recall: {recall}')\n",
        "print(f'Final F1 Score: {f1}')\n",
        "print(f'Confusion Matrix:\\n{conf_matrix}')\n",
        "\n",
        "# Plot the confusion matrix\n",
        "sns.heatmap(conf_matrix, annot=True, fmt='d', cmap='Blues')\n",
        "plt.xlabel('Predicted')\n",
        "plt.ylabel('Actual')\n",
        "plt.title('Confusion Matrix')\n",
        "plt.show()\n"
      ],
      "metadata": {
        "colab": {
          "base_uri": "https://localhost:8080/",
          "height": 939
        },
        "id": "WdsVnSRQnHnT",
        "outputId": "e3a0e4d5-cc60-466e-fe2b-84616fe9018a"
      },
      "execution_count": 28,
      "outputs": [
        {
          "output_type": "stream",
          "name": "stdout",
          "text": [
            "Iteration 1 - Accuracy: 0.9736842105263158, Precision: 1.0, Recall: 0.9302325581395349, F1 Score: 0.963855421686747\n",
            "Iteration 2 - Accuracy: 0.9736842105263158, Precision: 1.0, Recall: 0.9302325581395349, F1 Score: 0.963855421686747\n",
            "Iteration 3 - Accuracy: 0.9736842105263158, Precision: 1.0, Recall: 0.9302325581395349, F1 Score: 0.963855421686747\n",
            "Iteration 4 - Accuracy: 0.9736842105263158, Precision: 1.0, Recall: 0.9302325581395349, F1 Score: 0.963855421686747\n",
            "Iteration 5 - Accuracy: 0.9736842105263158, Precision: 1.0, Recall: 0.9302325581395349, F1 Score: 0.963855421686747\n",
            "Iteration 6 - Accuracy: 0.9736842105263158, Precision: 1.0, Recall: 0.9302325581395349, F1 Score: 0.963855421686747\n",
            "Iteration 7 - Accuracy: 0.9736842105263158, Precision: 1.0, Recall: 0.9302325581395349, F1 Score: 0.963855421686747\n",
            "Iteration 8 - Accuracy: 0.9736842105263158, Precision: 1.0, Recall: 0.9302325581395349, F1 Score: 0.963855421686747\n",
            "Iteration 9 - Accuracy: 0.9736842105263158, Precision: 1.0, Recall: 0.9302325581395349, F1 Score: 0.963855421686747\n",
            "Iteration 10 - Accuracy: 0.9736842105263158, Precision: 1.0, Recall: 0.9302325581395349, F1 Score: 0.963855421686747\n",
            "Iteration 11 - Accuracy: 0.9736842105263158, Precision: 1.0, Recall: 0.9302325581395349, F1 Score: 0.963855421686747\n",
            "Iteration 12 - Accuracy: 0.9736842105263158, Precision: 1.0, Recall: 0.9302325581395349, F1 Score: 0.963855421686747\n",
            "Iteration 13 - Accuracy: 0.9736842105263158, Precision: 1.0, Recall: 0.9302325581395349, F1 Score: 0.963855421686747\n",
            "Iteration 14 - Accuracy: 0.9736842105263158, Precision: 1.0, Recall: 0.9302325581395349, F1 Score: 0.963855421686747\n",
            "Iteration 15 - Accuracy: 0.9736842105263158, Precision: 1.0, Recall: 0.9302325581395349, F1 Score: 0.963855421686747\n",
            "Iteration 16 - Accuracy: 0.9736842105263158, Precision: 1.0, Recall: 0.9302325581395349, F1 Score: 0.963855421686747\n",
            "Iteration 17 - Accuracy: 0.9736842105263158, Precision: 1.0, Recall: 0.9302325581395349, F1 Score: 0.963855421686747\n",
            "Iteration 18 - Accuracy: 0.9736842105263158, Precision: 1.0, Recall: 0.9302325581395349, F1 Score: 0.963855421686747\n",
            "Iteration 19 - Accuracy: 0.9736842105263158, Precision: 1.0, Recall: 0.9302325581395349, F1 Score: 0.963855421686747\n",
            "Iteration 20 - Accuracy: 0.9736842105263158, Precision: 1.0, Recall: 0.9302325581395349, F1 Score: 0.963855421686747\n",
            "Final Accuracy: 0.9736842105263158\n",
            "Final Precision: 1.0\n",
            "Final Recall: 0.9302325581395349\n",
            "Final F1 Score: 0.963855421686747\n",
            "Confusion Matrix:\n",
            "[[71  0]\n",
            " [ 3 40]]\n"
          ]
        },
        {
          "output_type": "display_data",
          "data": {
            "text/plain": [
              "<Figure size 640x480 with 2 Axes>"
            ],
            "image/png": "[encoded data removed]"
          },
          "metadata": {}
        }
      ]
    },
    {
      "cell_type": "markdown",
      "source": [
        "**Explaination**\n",
        "\n",
        "**Before adding weight penalty**\n",
        "\n",
        "Normalize results\n",
        "\n",
        "Final Accuracy: 0.9824561403508771\n",
        "\n",
        "Final Precision: 1.0\n",
        "\n",
        "Final Recall: 0.9534883720930233\n",
        "\n",
        "Final F1 Score: 0.9761904761904763\n",
        "\n",
        "Confusion Matrix:\n",
        "[71 0]\n",
        "[2 41]\n",
        "format for confusion matrix\n",
        "[TP FP]\n",
        "[FN TN]\n",
        "\n",
        "**After adding weight penalty**\n",
        "\n",
        "Final Accuracy: 0.9736842105263158\n",
        "\n",
        "Final Precision: 1.0\n",
        "\n",
        "Final Recall: 0.9302325581395349\n",
        "\n",
        "Final F1 Score: 0.963855421686747\n",
        "\n",
        "Confusion Matrix:\n",
        "[[71  0]\n",
        " [ 3 40]]\n",
        "\n",
        "The addition of a penalty term helped to regularize our model and prevent overfitting up to some extent (very slightly but yes) confusion matrix- in Normalize method we have 0 false positive cases, However, we have False negative increase by 1 but on the other hand true negative decreased by 1, our desired goal for cancer data should be to decrease the number of False negative results, Based on confusion matrix better model was without adding penalties(this is based on cancer scenario assumptions).\n",
        "\n"
      ],
      "metadata": {
        "id": "7h0ImcKuT1tW"
      }
    },
    {
      "cell_type": "code",
      "source": [],
      "metadata": {
        "id": "CMKO5MfGtaTd"
      },
      "execution_count": null,
      "outputs": []
    }
  ]
}