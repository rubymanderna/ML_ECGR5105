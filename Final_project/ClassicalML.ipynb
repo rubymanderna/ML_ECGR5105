{
  "nbformat": 4,
  "nbformat_minor": 0,
  "metadata": {
    "colab": {
      "provenance": [],
      "include_colab_link": true
    },
    "kernelspec": {
      "name": "python3",
      "display_name": "Python 3"
    },
    "language_info": {
      "name": "python"
    }
  },
  "cells": [
    {
      "cell_type": "markdown",
      "metadata": {
        "id": "view-in-github",
        "colab_type": "text"
      },
      "source": [
        "<a href=\"https://colab.research.google.com/github/rubymanderna/ML_ECGR5105/blob/main/Final_project/ClassicalML.ipynb\" target=\"_parent\"><img src=\"https://colab.research.google.com/assets/colab-badge.svg\" alt=\"Open In Colab\"/></a>"
      ]
    },
    {
      "cell_type": "code",
      "source": [
        "from sklearn.linear_model import LinearRegression\n",
        "from sklearn.metrics import mean_squared_error\n",
        "import numpy as np\n",
        "import pandas as pd\n",
        "from sklearn.preprocessing import StandardScaler\n",
        "from sklearn.model_selection import train_test_split"
      ],
      "metadata": {
        "id": "h3y6rEIBWNyJ"
      },
      "execution_count": 1,
      "outputs": []
    },
    {
      "cell_type": "code",
      "source": [
        "from google.colab import drive\n",
        "drive.mount('/content/drive')"
      ],
      "metadata": {
        "colab": {
          "base_uri": "https://localhost:8080/"
        },
        "id": "-yfD3oaAz998",
        "outputId": "04943c9b-e413-480f-f5e3-6cf4ae633b35"
      },
      "execution_count": 7,
      "outputs": [
        {
          "output_type": "stream",
          "name": "stdout",
          "text": [
            "Mounted at /content/drive\n"
          ]
        }
      ]
    },
    {
      "cell_type": "code",
      "source": [
        "data = pd.read_csv(\"/content/drive/MyDrive/ML_ECGR5105/train_dataframe.csv\")\n",
        "removed_column = data.pop('label')\n",
        "Y = pd.DataFrame({'age group': removed_column})\n",
        "X = data\n",
        "X.shape"
      ],
      "metadata": {
        "colab": {
          "base_uri": "https://localhost:8080/"
        },
        "id": "8Q_eme68WSFW",
        "outputId": "65ca7925-5e96-4c96-d4ab-78cb8342d08a"
      },
      "execution_count": 8,
      "outputs": [
        {
          "output_type": "execute_result",
          "data": {
            "text/plain": [
              "(30694, 23)"
            ]
          },
          "metadata": {},
          "execution_count": 8
        }
      ]
    },
    {
      "cell_type": "code",
      "source": [
        "x_train, x_test, y_train, y_test = train_test_split(X, Y, test_size=0.2, random_state=42)\n"
      ],
      "metadata": {
        "id": "amedUFGkWXIv"
      },
      "execution_count": 9,
      "outputs": []
    },
    {
      "cell_type": "code",
      "source": [
        "from sklearn.preprocessing import LabelEncoder\n",
        "\n",
        "def get_labels(data):\n",
        "    labels = data.iloc[:, -1]\n",
        "    encoder = LabelEncoder()\n",
        "    labels = encoder.fit_transform(labels)\n",
        "    return labels, encoder\n",
        "\n",
        "y_train, encoder = get_labels(y_train)\n",
        "y_test = encoder.transform(y_test)\n",
        "y_test = y_test.ravel()\n",
        "y_train = y_train.ravel()\n",
        "y_test[:50]"
      ],
      "metadata": {
        "colab": {
          "base_uri": "https://localhost:8080/"
        },
        "id": "EcKbIM7NWbDM",
        "outputId": "f39b3cea-3d94-447c-b4fc-1729e1b24717"
      },
      "execution_count": 10,
      "outputs": [
        {
          "output_type": "stream",
          "name": "stderr",
          "text": [
            "/usr/local/lib/python3.10/dist-packages/sklearn/preprocessing/_label.py:134: DataConversionWarning: A column-vector y was passed when a 1d array was expected. Please change the shape of y to (n_samples, ), for example using ravel().\n",
            "  y = column_or_1d(y, dtype=self.classes_.dtype, warn=True)\n"
          ]
        },
        {
          "output_type": "execute_result",
          "data": {
            "text/plain": [
              "array([1, 7, 1, 6, 6, 7, 6, 4, 1, 6, 1, 2, 2, 7, 5, 1, 4, 7, 4, 7, 6, 6,\n",
              "       7, 7, 1, 7, 7, 6, 4, 6, 6, 1, 1, 7, 1, 7, 6, 7, 7, 1, 6, 4, 3, 7,\n",
              "       6, 1, 5, 2, 6, 4])"
            ]
          },
          "metadata": {},
          "execution_count": 10
        }
      ]
    },
    {
      "cell_type": "code",
      "source": [
        "sc = StandardScaler()\n",
        "x_train= sc.fit_transform(x_train)\n",
        "x_test = sc.fit_transform(x_test)\n",
        "n = X.shape[1]"
      ],
      "metadata": {
        "id": "xonXXQAOWcGH"
      },
      "execution_count": 11,
      "outputs": []
    },
    {
      "cell_type": "code",
      "execution_count": 12,
      "metadata": {
        "colab": {
          "base_uri": "https://localhost:8080/"
        },
        "id": "F09BjYpQVUTk",
        "outputId": "4f9dfebf-254a-4834-9150-8d1dc662f426"
      },
      "outputs": [
        {
          "output_type": "stream",
          "name": "stdout",
          "text": [
            "Mean Squared Error (Linear Regression): 4.784751932118226\n",
            "Coefficients: [ 0.15263885  0.10455818 -0.25643841 -0.07949798  0.29272398 -0.09871471\n",
            " -0.0756885   0.12767099 -0.03035823  0.07590471 -0.05310831  0.10672793\n",
            " -0.1317305   0.13382866 -0.16343016 -0.12536358 -0.18167868  0.1838082\n",
            "  0.04962402  0.21386255  0.03666087  0.12658821 -0.17229504]\n",
            "Intercept: 4.783262064752595\n",
            "R-squared (Linear Regression): 0.05904036812111235\n"
          ]
        }
      ],
      "source": [
        "\n",
        "\n",
        "# Assuming x_train, y_train, x_test, y_test are your training and testing data\n",
        "\n",
        "# Linear Regression\n",
        "linear_reg_model = LinearRegression()\n",
        "\n",
        "# Training the model\n",
        "linear_reg_model.fit(x_train, y_train)\n",
        "\n",
        "# Predicting on the test set\n",
        "y_pred_linear = linear_reg_model.predict(x_test)\n",
        "\n",
        "# Evaluating the model\n",
        "mse_linear = mean_squared_error(y_test, y_pred_linear)\n",
        "print(f\"Mean Squared Error (Linear Regression): {mse_linear}\")\n",
        "\n",
        "# If you want to access the coefficients and intercept:\n",
        "coefficients = linear_reg_model.coef_\n",
        "intercept = linear_reg_model.intercept_\n",
        "\n",
        "print(\"Coefficients:\", coefficients)\n",
        "print(\"Intercept:\", intercept)\n",
        "\n",
        "# Accuracy for regression is not applicable, but you can print R-squared\n",
        "r_squared = linear_reg_model.score(x_test, y_test)\n",
        "print(f\"R-squared (Linear Regression): {r_squared}\")\n"
      ]
    },
    {
      "cell_type": "code",
      "source": [
        "from sklearn.linear_model import LogisticRegression\n",
        "from sklearn.metrics import accuracy_score, classification_report\n",
        "\n",
        "# Assuming x_train, y_train, x_test, y_test are your training and testing data\n",
        "\n",
        "# Logistic Regression\n",
        "logistic_reg_model = LogisticRegression()\n",
        "\n",
        "# Training the model\n",
        "logistic_reg_model.fit(x_train, y_train)\n",
        "\n",
        "# Predicting on the test set\n",
        "y_pred_logistic = logistic_reg_model.predict(x_test)\n",
        "\n",
        "# Evaluating the model\n",
        "accuracy_logistic = accuracy_score(y_test, y_pred_logistic)\n",
        "classification_report_logistic = classification_report(y_test, y_pred_logistic)\n",
        "\n",
        "print(f\"Accuracy (Logistic Regression): {accuracy_logistic}\")\n",
        "print(\"Classification Report (Logistic Regression):\\n\", classification_report_logistic)\n",
        "\n"
      ],
      "metadata": {
        "colab": {
          "base_uri": "https://localhost:8080/"
        },
        "id": "Pq2HcroqYPy1",
        "outputId": "e7521626-9aee-446e-9e39-3644ffbc32a6"
      },
      "execution_count": 13,
      "outputs": [
        {
          "output_type": "stream",
          "name": "stdout",
          "text": [
            "Accuracy (Logistic Regression): 0.36064505619807785\n",
            "Classification Report (Logistic Regression):\n",
            "               precision    recall  f1-score   support\n",
            "\n",
            "           0       0.00      0.00      0.00        27\n",
            "           1       0.28      0.06      0.10       806\n",
            "           2       0.28      0.10      0.15       851\n",
            "           3       0.00      0.00      0.00       122\n",
            "           4       0.37      0.07      0.12       393\n",
            "           5       0.48      0.03      0.05       470\n",
            "           6       0.33      0.39      0.36      1522\n",
            "           7       0.38      0.74      0.50      1948\n",
            "\n",
            "    accuracy                           0.36      6139\n",
            "   macro avg       0.27      0.17      0.16      6139\n",
            "weighted avg       0.34      0.36      0.29      6139\n",
            "\n"
          ]
        },
        {
          "output_type": "stream",
          "name": "stderr",
          "text": [
            "/usr/local/lib/python3.10/dist-packages/sklearn/linear_model/_logistic.py:458: ConvergenceWarning: lbfgs failed to converge (status=1):\n",
            "STOP: TOTAL NO. of ITERATIONS REACHED LIMIT.\n",
            "\n",
            "Increase the number of iterations (max_iter) or scale the data as shown in:\n",
            "    https://scikit-learn.org/stable/modules/preprocessing.html\n",
            "Please also refer to the documentation for alternative solver options:\n",
            "    https://scikit-learn.org/stable/modules/linear_model.html#logistic-regression\n",
            "  n_iter_i = _check_optimize_result(\n",
            "/usr/local/lib/python3.10/dist-packages/sklearn/metrics/_classification.py:1344: UndefinedMetricWarning: Precision and F-score are ill-defined and being set to 0.0 in labels with no predicted samples. Use `zero_division` parameter to control this behavior.\n",
            "  _warn_prf(average, modifier, msg_start, len(result))\n",
            "/usr/local/lib/python3.10/dist-packages/sklearn/metrics/_classification.py:1344: UndefinedMetricWarning: Precision and F-score are ill-defined and being set to 0.0 in labels with no predicted samples. Use `zero_division` parameter to control this behavior.\n",
            "  _warn_prf(average, modifier, msg_start, len(result))\n",
            "/usr/local/lib/python3.10/dist-packages/sklearn/metrics/_classification.py:1344: UndefinedMetricWarning: Precision and F-score are ill-defined and being set to 0.0 in labels with no predicted samples. Use `zero_division` parameter to control this behavior.\n",
            "  _warn_prf(average, modifier, msg_start, len(result))\n"
          ]
        }
      ]
    },
    {
      "cell_type": "code",
      "source": [
        "from sklearn.decomposition import PCA"
      ],
      "metadata": {
        "id": "1nvzmorsbwil"
      },
      "execution_count": 14,
      "outputs": []
    },
    {
      "cell_type": "code",
      "source": [
        "from sklearn.svm import SVC\n",
        "from sklearn.metrics import accuracy_score, classification_report\n",
        "\n",
        "svc_model_rbf = SVC(kernel='rbf',C=10)\n",
        "\n",
        "# Training the model\n",
        "svc_model_rbf.fit(x_train, y_train)\n",
        "\n",
        "# Predicting on the test set\n",
        "y_pred_svc_rbf = svc_model_rbf.predict(x_test)\n",
        "\n",
        "# Evaluating the model\n",
        "accuracy_svc_rbf = accuracy_score(y_test, y_pred_svc_rbf)\n",
        "classification_report_svc_rbf = classification_report(y_test, y_pred_svc_rbf)\n",
        "\n",
        "print(f\"Accuracy (SVC with RBF kernel): {accuracy_svc_rbf}\")\n",
        "print(\"Classification Report (SVC with RBF kernel):\\n\", classification_report_svc_rbf)\n",
        "\n",
        "\n",
        "\n",
        "\n"
      ],
      "metadata": {
        "colab": {
          "base_uri": "https://localhost:8080/"
        },
        "id": "iU7LsIYUaN1J",
        "outputId": "f2611c76-1a0b-44a6-ddb2-4a1d62939b5e"
      },
      "execution_count": 15,
      "outputs": [
        {
          "output_type": "stream",
          "name": "stdout",
          "text": [
            "Accuracy (SVC with RBF kernel): 0.7895422707281317\n",
            "Classification Report (SVC with RBF kernel):\n",
            "               precision    recall  f1-score   support\n",
            "\n",
            "           0       1.00      0.81      0.90        27\n",
            "           1       0.82      0.79      0.81       806\n",
            "           2       0.76      0.77      0.77       851\n",
            "           3       0.82      0.75      0.78       122\n",
            "           4       0.86      0.82      0.84       393\n",
            "           5       0.83      0.63      0.71       470\n",
            "           6       0.78      0.79      0.79      1522\n",
            "           7       0.77      0.83      0.80      1948\n",
            "\n",
            "    accuracy                           0.79      6139\n",
            "   macro avg       0.83      0.77      0.80      6139\n",
            "weighted avg       0.79      0.79      0.79      6139\n",
            "\n"
          ]
        }
      ]
    },
    {
      "cell_type": "code",
      "source": [
        "from sklearn.neighbors import KNeighborsClassifier\n",
        "from sklearn.metrics import accuracy_score, classification_report\n",
        "\n",
        "# Create KNeighborsClassifier model\n",
        "knn_model = KNeighborsClassifier(n_neighbors=1)  # You can adjust the number of neighbors (n_neighbors) as needed\n",
        "\n",
        "# Training the model\n",
        "knn_model.fit(x_train, y_train)\n",
        "\n",
        "# Predicting on the test set\n",
        "y_pred_knn = knn_model.predict(x_test)\n",
        "\n",
        "# Evaluating the model\n",
        "accuracy_knn = accuracy_score(y_test, y_pred_knn)\n",
        "classification_report_knn = classification_report(y_test, y_pred_knn)\n",
        "\n",
        "print(f\"Accuracy (KNeighborsClassifier): {accuracy_knn}\")\n",
        "print(\"Classification Report (KNeighborsClassifier):\\n\", classification_report_knn)\n"
      ],
      "metadata": {
        "colab": {
          "base_uri": "https://localhost:8080/"
        },
        "id": "v4QAHR-baFhI",
        "outputId": "bb15e7df-5906-4c69-dac1-d99d1ef8e549"
      },
      "execution_count": 16,
      "outputs": [
        {
          "output_type": "stream",
          "name": "stdout",
          "text": [
            "Accuracy (KNeighborsClassifier): 0.8540478905359179\n",
            "Classification Report (KNeighborsClassifier):\n",
            "               precision    recall  f1-score   support\n",
            "\n",
            "           0       0.88      0.81      0.85        27\n",
            "           1       0.86      0.87      0.87       806\n",
            "           2       0.83      0.86      0.84       851\n",
            "           3       0.73      0.89      0.80       122\n",
            "           4       0.85      0.92      0.88       393\n",
            "           5       0.86      0.78      0.82       470\n",
            "           6       0.85      0.86      0.85      1522\n",
            "           7       0.88      0.85      0.86      1948\n",
            "\n",
            "    accuracy                           0.85      6139\n",
            "   macro avg       0.84      0.85      0.85      6139\n",
            "weighted avg       0.86      0.85      0.85      6139\n",
            "\n"
          ]
        }
      ]
    },
    {
      "cell_type": "code",
      "source": [],
      "metadata": {
        "id": "y2-pClQh0Y0f"
      },
      "execution_count": null,
      "outputs": []
    }
  ]
}