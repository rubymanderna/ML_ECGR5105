{
  "nbformat": 4,
  "nbformat_minor": 0,
  "metadata": {
    "colab": {
      "provenance": [],
      "authorship_tag": "ABX9TyN6D4aQcZPpzLDsr/qKlq1I",
      "include_colab_link": true
    },
    "kernelspec": {
      "name": "python3",
      "display_name": "Python 3"
    },
    "language_info": {
      "name": "python"
    }
  },
  "cells": [
    {
      "cell_type": "markdown",
      "metadata": {
        "id": "view-in-github",
        "colab_type": "text"
      },
      "source": [
        "<a href=\"https://colab.research.google.com/github/rubymanderna/ML_ECGR5105/blob/main/Homework_5/Homework5_1.ipynb\" target=\"_parent\"><img src=\"https://colab.research.google.com/assets/colab-badge.svg\" alt=\"Open In Colab\"/></a>"
      ]
    },
    {
      "cell_type": "markdown",
      "source": [
        "Problem 1 (30 pts):\n",
        "\n",
        "1. In our temperature prediction example, let’s change our model to a nonlinear system. Consider the following description for our model:\n",
        "\n",
        "w2 * t_u ** 2 + w1 * t_u + b.\n",
        "\n",
        "1.a Modify the training loop properly to accommodate this redefinition.\n",
        "\n",
        "1.b Use 5000 epochs for your training. Explore different learning rates from 0.1 to 0.0001 (you need four separate trainings). Report your loss for every 500 epochs per training.\n",
        "\n",
        "1.c Pick the best non-linear model and compare your final best loss against the linear model that we did during the lecture. For this, visualize the non-linear model against the linear model over the input dataset, as we did during the lecture. Is the actual result better or worse than our baseline linear model?"
      ],
      "metadata": {
        "id": "PTRGCgqeVdBx"
      }
    },
    {
      "cell_type": "code",
      "source": [
        "import torch\n",
        "import torch.optim as optim\n"
      ],
      "metadata": {
        "id": "-5P485rKWCIT"
      },
      "execution_count": 1,
      "outputs": []
    },
    {
      "cell_type": "markdown",
      "source": [
        "linear\n",
        "\n",
        "t_c = w * t_u + b\n",
        "\n",
        "non linear\n",
        "\n",
        "t_c = w2 * t_u ** 2 + w1 * t_u + b.\n",
        "\n",
        "Finding a non linear relationship between\n",
        "\n",
        "t_u and t_C\n",
        "\n",
        "for non linear function pytorch code\n",
        "\n",
        "Pytorch code:\n",
        "   \n",
        "   def model(t_u, w2, w1, b):\n",
        "   \n",
        "   return w2 * t_u ** 2 + w1 * t_u +b\n",
        "\n",
        "Aim: finding a non linear relation ship between the input and the desired output."
      ],
      "metadata": {
        "id": "4CAovm_eWTzK"
      }
    },
    {
      "cell_type": "markdown",
      "source": [
        "# 1.a - Modify the training loop properly to accommodate this redefinition.\n",
        "\n",
        "\n",
        "# 1.b - Use 5000 epochs for your training. Explore different learning rates from 0.1 to 0.0001 (you need four separate trainings). Report your loss for every 500 epochs per training."
      ],
      "metadata": {
        "id": "0PMh3x6caAhC"
      }
    },
    {
      "cell_type": "markdown",
      "source": [
        "**USING - Stochastic Gradient Descent (SGD)**"
      ],
      "metadata": {
        "id": "EsAgOiqlHIFp"
      }
    },
    {
      "cell_type": "code",
      "source": [
        "import torch\n",
        "import torch.optim as optim\n",
        "\n",
        "t_c = [0.5, 14.0, 15.0, 28.0, 11.0, 8.0, 3.0, -4.0, 6.0, 13.0, 21.0]\n",
        "t_u = [35.7, 55.9, 58.2, 81.9, 56.3, 48.9, 33.9, 21.8, 48.4, 60.4, 68.4]\n",
        "import numpy as np\n",
        "\n",
        "t_u = np.array([35.7, 55.9, 58.2, 81.9, 56.3, 48.9, 33.9, 21.8, 48.4, 60.4, 68.4])\n",
        "\n",
        "mean_t_u = np.mean(t_u)\n",
        "std_dev_t_u = np.std(t_u)\n",
        "t_un = (t_u - mean_t_u) / std_dev_t_u\n",
        "\n",
        "t_c = torch.tensor(t_c)\n",
        "t_u = torch.tensor(t_u)\n",
        "t_un = torch.tensor(t_un)\n",
        "\n",
        "def model(t_u, w2, w1, b):\n",
        "    return w2 * t_u**2 + w1 * t_u + b\n",
        "\n",
        "def loss_fn(t_p, t_c):\n",
        "    squared_diffs = (t_p - t_c)**2\n",
        "    return squared_diffs.mean()\n",
        "\n",
        "def training_loop(n_epochs, optimizer, params, t_u, t_c):\n",
        "    for epoch in range(1,n_epochs +1):\n",
        "        t_p = model(t_u, *params)\n",
        "        loss = loss_fn(t_p, t_c)\n",
        "        optimizer.zero_grad()\n",
        "        loss.backward()\n",
        "        optimizer.step()\n",
        "        if epoch % 500 == 0:\n",
        "            print('Epoch %d, Loss %f' % (epoch, float(loss)))\n",
        "    return params\n",
        "\n",
        "# Initialize parameters\n",
        "w2 = torch.tensor(1.0, requires_grad=True)\n",
        "w1 = torch.tensor(1.0, requires_grad=True)\n",
        "b = torch.tensor(0.0, requires_grad=True)\n",
        "\n",
        "# Learning rates\n",
        "learning_rates = [0.1, 0.01, 0.001, 0.0001]\n",
        "\n",
        "for lr in learning_rates:\n",
        "    params = [w2, w1, b]\n",
        "    optimizer = optim.SGD(params, lr=lr)\n",
        "    final_params = training_loop(n_epochs=5000, optimizer=optimizer, params=params, t_u=t_un, t_c=t_c)\n",
        "    print(f'Learning Rate: {lr}, Final Parameters: {[param.item() for param in final_params]}')\n"
      ],
      "metadata": {
        "colab": {
          "base_uri": "https://localhost:8080/"
        },
        "id": "KDLy1lFUzmFU",
        "outputId": "c98b42f0-a3bc-4b81-8e71-10ed24dadd6e"
      },
      "execution_count": 9,
      "outputs": [
        {
          "output_type": "stream",
          "name": "stdout",
          "text": [
            "Epoch 500, Loss 2.090720\n",
            "Epoch 1000, Loss 2.090720\n",
            "Epoch 1500, Loss 2.090720\n",
            "Epoch 2000, Loss 2.090720\n",
            "Epoch 2500, Loss 2.090720\n",
            "Epoch 3000, Loss 2.090720\n",
            "Epoch 3500, Loss 2.090720\n",
            "Epoch 4000, Loss 2.090720\n",
            "Epoch 4500, Loss 2.090720\n",
            "Epoch 5000, Loss 2.090720\n",
            "Learning Rate: 0.1, Final Parameters: [0.7290025353431702, 8.6796875, 9.770995140075684]\n",
            "Epoch 500, Loss 2.090720\n",
            "Epoch 1000, Loss 2.090720\n",
            "Epoch 1500, Loss 2.090720\n",
            "Epoch 2000, Loss 2.090720\n",
            "Epoch 2500, Loss 2.090720\n",
            "Epoch 3000, Loss 2.090720\n",
            "Epoch 3500, Loss 2.090720\n",
            "Epoch 4000, Loss 2.090720\n",
            "Epoch 4500, Loss 2.090720\n",
            "Epoch 5000, Loss 2.090720\n",
            "Learning Rate: 0.01, Final Parameters: [0.7290025353431702, 8.6796875, 9.770995140075684]\n",
            "Epoch 500, Loss 2.090720\n",
            "Epoch 1000, Loss 2.090720\n",
            "Epoch 1500, Loss 2.090720\n",
            "Epoch 2000, Loss 2.090720\n",
            "Epoch 2500, Loss 2.090720\n",
            "Epoch 3000, Loss 2.090720\n",
            "Epoch 3500, Loss 2.090720\n",
            "Epoch 4000, Loss 2.090720\n",
            "Epoch 4500, Loss 2.090720\n",
            "Epoch 5000, Loss 2.090720\n",
            "Learning Rate: 0.001, Final Parameters: [0.7290025353431702, 8.6796875, 9.770995140075684]\n",
            "Epoch 500, Loss 2.090720\n",
            "Epoch 1000, Loss 2.090720\n",
            "Epoch 1500, Loss 2.090720\n",
            "Epoch 2000, Loss 2.090720\n",
            "Epoch 2500, Loss 2.090720\n",
            "Epoch 3000, Loss 2.090720\n",
            "Epoch 3500, Loss 2.090720\n",
            "Epoch 4000, Loss 2.090720\n",
            "Epoch 4500, Loss 2.090720\n",
            "Epoch 5000, Loss 2.090720\n",
            "Learning Rate: 0.0001, Final Parameters: [0.7290025353431702, 8.6796875, 9.770995140075684]\n"
          ]
        }
      ]
    },
    {
      "cell_type": "markdown",
      "source": [
        "**Adam Optimizer**"
      ],
      "metadata": {
        "id": "4glk8ghVITHy"
      }
    },
    {
      "cell_type": "code",
      "source": [
        "import torch\n",
        "import torch.optim as optim\n",
        "\n",
        "t_c = [0.5, 14.0, 15.0, 28.0, 11.0, 8.0, 3.0, -4.0, 6.0, 13.0, 21.0]\n",
        "t_u = [35.7, 55.9, 58.2, 81.9, 56.3, 48.9, 33.9, 21.8, 48.4, 60.4, 68.4]\n",
        "import numpy as np\n",
        "\n",
        "t_u = np.array([35.7, 55.9, 58.2, 81.9, 56.3, 48.9, 33.9, 21.8, 48.4, 60.4, 68.4])\n",
        "\n",
        "mean_t_u = np.mean(t_u)\n",
        "std_dev_t_u = np.std(t_u)\n",
        "\n",
        "t_un = (t_u - mean_t_u) / std_dev_t_u\n",
        "t_c = torch.tensor(t_c)\n",
        "t_u = torch.tensor(t_u)\n",
        "t_un = torch.tensor(t_un)\n",
        "\n",
        "\n",
        "def model(t_u, w2, w1, b):\n",
        "\n",
        "    return w2 * t_u**2 + w1 * t_u + b\n",
        "\n",
        "def loss_fn(t_p, t_c):\n",
        "    squared_diffs = (t_p - t_c)**2\n",
        "    return squared_diffs.mean()\n",
        "\n",
        "def training_loop(n_epochs, optimizer, params, t_u, t_c):\n",
        "    for epoch in range(1,n_epochs + 1):\n",
        "        t_p = model(t_u, *params)\n",
        "        loss = loss_fn(t_p, t_c)\n",
        "        optimizer.zero_grad()\n",
        "        loss.backward()\n",
        "        optimizer.step()\n",
        "        if epoch % 500 == 0:\n",
        "            print('Epoch %d, Loss %f' % (epoch, float(loss)))\n",
        "    return params\n",
        "\n",
        "# Initialize parameters\n",
        "w2 = torch.tensor(1.0, requires_grad=True)\n",
        "w1 = torch.tensor(1.0, requires_grad=True)\n",
        "b = torch.tensor(0.0, requires_grad=True)\n",
        "\n",
        "# Learning rates\n",
        "learning_rates = [0.1, 0.01, 0.001, 0.0001]\n",
        "\n",
        "for lr in learning_rates:\n",
        "    params = [w2, w1, b]\n",
        "    optimizer = optim.Adam(params, lr=lr)\n",
        "    final_params = training_loop(n_epochs=5000, optimizer=optimizer, params=params, t_u=t_u, t_c=t_c)\n",
        "    print(f'Learning Rate: {lr}, Final Parameters: {[param.item() for param in final_params]}')\n"
      ],
      "metadata": {
        "colab": {
          "base_uri": "https://localhost:8080/"
        },
        "id": "YTEzV4yPHFdw",
        "outputId": "49b103f0-c6ad-456d-c9d1-8940485593a9"
      },
      "execution_count": 25,
      "outputs": [
        {
          "output_type": "stream",
          "name": "stdout",
          "text": [
            "Epoch 500, Loss 4.844499\n",
            "Epoch 1000, Loss 3.785644\n",
            "Epoch 1500, Loss 3.466675\n",
            "Epoch 2000, Loss 3.406404\n",
            "Epoch 2500, Loss 3.377976\n",
            "Epoch 3000, Loss 3.344334\n",
            "Epoch 3500, Loss 3.301920\n",
            "Epoch 4000, Loss 3.249140\n",
            "Epoch 4500, Loss 3.184418\n",
            "Epoch 5000, Loss 3.106353\n",
            "Learning Rate: 0.1, Final Parameters: [0.005685737822204828, -0.06828179210424423, -2.5686614513397217]\n",
            "Epoch 500, Loss 3.057925\n",
            "Epoch 1000, Loss 2.984748\n",
            "Epoch 1500, Loss 2.885661\n",
            "Epoch 2000, Loss 10.547737\n",
            "Epoch 2500, Loss 2.663148\n",
            "Epoch 3000, Loss 2.572886\n",
            "Epoch 3500, Loss 2.497300\n",
            "Epoch 4000, Loss 2.433472\n",
            "Epoch 4500, Loss 2.421507\n",
            "Epoch 5000, Loss 2.333816\n",
            "Learning Rate: 0.01, Final Parameters: [0.004227207042276859, 0.09307771176099777, -6.69647216796875]\n",
            "Epoch 500, Loss 2.324307\n",
            "Epoch 1000, Loss 2.307364\n",
            "Epoch 1500, Loss 2.285192\n",
            "Epoch 2000, Loss 2.323223\n",
            "Epoch 2500, Loss 2.236535\n",
            "Epoch 3000, Loss 2.216071\n",
            "Epoch 3500, Loss 2.198161\n",
            "Epoch 4000, Loss 2.182893\n",
            "Epoch 4500, Loss 2.169436\n",
            "Epoch 5000, Loss 2.157953\n",
            "Learning Rate: 0.001, Final Parameters: [0.0035644490271806717, 0.16636686027050018, -8.57056713104248]\n",
            "Epoch 500, Loss 2.156040\n",
            "Epoch 1000, Loss 2.153359\n",
            "Epoch 1500, Loss 2.150523\n",
            "Epoch 2000, Loss 2.147678\n",
            "Epoch 2500, Loss 2.144916\n",
            "Epoch 3000, Loss 2.142254\n",
            "Epoch 3500, Loss 2.139675\n",
            "Epoch 4000, Loss 2.137183\n",
            "Epoch 4500, Loss 2.134793\n",
            "Epoch 5000, Loss 2.132423\n",
            "Learning Rate: 0.0001, Final Parameters: [0.003405186580494046, 0.18383310735225677, -9.011731147766113]\n"
          ]
        }
      ]
    },
    {
      "cell_type": "code",
      "source": [
        "import matplotlib.pyplot as plt\n",
        "\n",
        "# Generate predicted temperatures using the trained model\n",
        "t_p = model(t_u, *final_params).detach().numpy()\n",
        "\n",
        "# Plot the input data and the model's predictions\n",
        "plt.figure(figsize=(10, 6))\n",
        "plt.scatter(t_un, t_c, label='Actual Data', color='blue')\n",
        "plt.plot(t_un, t_p, label='Predicted Data', color='red')\n",
        "plt.xlabel('Normalized Temperature (t_un)')\n",
        "plt.ylabel('Temperature (t_c)')\n",
        "plt.legend()\n",
        "plt.show()"
      ],
      "metadata": {
        "colab": {
          "base_uri": "https://localhost:8080/",
          "height": 526
        },
        "id": "Nk00RlHmUbmd",
        "outputId": "2afa8f9b-9405-4f6f-a50f-5f9f56eff77c"
      },
      "execution_count": 32,
      "outputs": [
        {
          "output_type": "display_data",
          "data": {
            "text/plain": [
              "<Figure size 1000x600 with 1 Axes>"
            ],
            "image/png": "[encoded data removed]"
          },
          "metadata": {}
        }
      ]
    },
    {
      "cell_type": "markdown",
      "source": [
        "1.c Pick the best non-linear model and compare your final best loss against the linear model that we did during the lecture. For this, visualize the non-linear model against the linear model over the input dataset, as we did during the lecture. Is the actual result better or worse than our baseline linear model?"
      ],
      "metadata": {
        "id": "AwUMH5Hf61EA"
      }
    },
    {
      "cell_type": "code",
      "source": [
        "\n",
        "t_c = [0.5, 14.0, 15.0, 28.0, 11.0, 8.0, 3.0, -4.0, 6.0, 13.0, 21.0]\n",
        "t_u = [35.7, 55.9, 58.2, 81.9, 56.3, 48.9, 33.9, 21.8, 48.4, 60.4, 68.4]\n",
        "import numpy as np\n",
        "\n",
        "t_u = np.array([35.7, 55.9, 58.2, 81.9, 56.3, 48.9, 33.9, 21.8, 48.4, 60.4, 68.4])\n",
        "\n",
        "mean_t_u = np.mean(t_u)\n",
        "std_dev_t_u = np.std(t_u)\n",
        "\n",
        "t_un = (t_u - mean_t_u) / std_dev_t_u\n",
        "t_c = torch.tensor(t_c)\n",
        "t_u = torch.tensor(t_u)\n",
        "t_un = torch.tensor(t_un)\n",
        "\n",
        "def model_linear(t_u, w, b):\n",
        "   return w * t_u + b\n",
        "\n",
        "def loss_fn(t_p, t_c):\n",
        "    squared_diffs = (t_p - t_c)**2\n",
        "    return squared_diffs.mean()\n",
        "\n",
        "\n",
        "def training_loop(n_epochs, optimizer, params, t_u, t_c):\n",
        "    for epoch in range(1,n_epochs + 1):\n",
        "        t_p = model_linear(t_u, *params)\n",
        "        loss = loss_fn(t_p, t_c)\n",
        "        optimizer.zero_grad()\n",
        "        loss.backward()\n",
        "        optimizer.step()\n",
        "        if epoch % 500 == 0:\n",
        "            print('Epoch %d, Loss %f' % (epoch, float(loss)))\n",
        "    return params\n",
        "w = torch.tensor(1.0, requires_grad=True)\n",
        "b = torch.tensor(0.0, requires_grad=True)\n",
        "\n",
        "params = [w, b]\n",
        "optimizer = optim.Adam(params, lr=1e-1)\n",
        "final_params_linear = training_loop(n_epochs=5000, optimizer=optimizer, params=params, t_u=t_u, t_c=t_c)\n",
        "print(f'Learning Rate: {lr}, Final Parameters: {[param.item() for param in final_params]}')\n"
      ],
      "metadata": {
        "id": "ElQtj7V3Viey",
        "colab": {
          "base_uri": "https://localhost:8080/"
        },
        "outputId": "3031fdec-1d45-4bae-cc23-b0433abbda09"
      },
      "execution_count": 28,
      "outputs": [
        {
          "output_type": "stream",
          "name": "stdout",
          "text": [
            "Epoch 500, Loss 7.612902\n",
            "Epoch 1000, Loss 3.086699\n",
            "Epoch 1500, Loss 2.928580\n",
            "Epoch 2000, Loss 2.927646\n",
            "Epoch 2500, Loss 2.927646\n",
            "Epoch 3000, Loss 2.927646\n",
            "Epoch 3500, Loss 2.927646\n",
            "Epoch 4000, Loss 2.927646\n",
            "Epoch 4500, Loss 2.927646\n",
            "Epoch 5000, Loss 2.927646\n",
            "Learning Rate: 0.0001, Final Parameters: [0.003405186580494046, 0.18383310735225677, -9.011731147766113]\n"
          ]
        }
      ]
    },
    {
      "cell_type": "code",
      "source": [
        "import matplotlib.pyplot as plt\n",
        "\n",
        "# Generate predicted temperatures using the trained model\n",
        "t_p = model_linear(t_u, *final_params_linear).detach().numpy()\n",
        "\n",
        "# Plot the input data and the model's predictions\n",
        "plt.figure(figsize=(10, 6))\n",
        "plt.scatter(t_un, t_c, label='Actual Data', color='blue')\n",
        "plt.plot(t_un, t_p, label='Predicted Data', color='green')\n",
        "plt.xlabel('Normalized Temperature (t_un)')\n",
        "plt.ylabel('Temperature (t_c)')\n",
        "plt.legend()\n",
        "plt.show()"
      ],
      "metadata": {
        "colab": {
          "base_uri": "https://localhost:8080/",
          "height": 526
        },
        "id": "RGI-TeGmVX2Z",
        "outputId": "4550aa9b-8fb9-429f-b8b6-d392ebc634ae"
      },
      "execution_count": 29,
      "outputs": [
        {
          "output_type": "display_data",
          "data": {
            "text/plain": [
              "<Figure size 1000x600 with 1 Axes>"
            ],
            "image/png": "[encoded data removed]"
          },
          "metadata": {}
        }
      ]
    },
    {
      "cell_type": "markdown",
      "source": [
        "**Linear**\n",
        "\n",
        "**Lectur result using SGD**\n",
        "\n",
        "Epoch 5000, Loss 2.927648\n",
        "\n",
        "**Lectur result using ADAM**\n",
        "\n",
        "Epoch 2000, Loss 2.927646\n",
        "\n",
        "**Non-Linear **\n",
        "\n",
        "**non -linear best **\n",
        "\n",
        "After comparing with the lecture result ADAM performs best with min loss.\n",
        "\n",
        "Epoch 5000, Loss 2.132423\n",
        "Learning Rate: 0.0001,\n",
        "\n",
        "After visualization Results from model with ADAM optimizer is better than our baseline linear model\n",
        "\n",
        "\n",
        "\n",
        "\n"
      ],
      "metadata": {
        "id": "fqyATbpNM7zc"
      }
    },
    {
      "cell_type": "code",
      "source": [],
      "metadata": {
        "id": "WgVJIiZtvgc_"
      },
      "execution_count": null,
      "outputs": []
    }
  ]
}